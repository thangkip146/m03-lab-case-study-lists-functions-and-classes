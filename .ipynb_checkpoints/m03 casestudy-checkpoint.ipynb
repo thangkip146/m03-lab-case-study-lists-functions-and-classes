{
 "cells": [
  {
   "cell_type": "code",
   "execution_count": 1,
   "id": "9e08cce0",
   "metadata": {},
   "outputs": [],
   "source": [
    "# vehicle super class\n",
    "class Vehicle:\n",
    "    def __init__(self, vehicle_type):\n",
    "        self.vehicle_type = vehicle_type"
   ]
  },
  {
   "cell_type": "code",
   "execution_count": 2,
   "id": "5846eb4b",
   "metadata": {},
   "outputs": [],
   "source": [
    "# inherit automobile class\n",
    "class Automobile(Vehicle):\n",
    "    def __init__(self, vehicle_type, year, make, model, doors, roof):\n",
    "        # calling parent __init__\n",
    "        Vehicle.__init__(self, vehicle_type)\n",
    "        \n",
    "        self.year = year\n",
    "        self.make = make\n",
    "        self.model = model\n",
    "        self.doors = doors\n",
    "        self.roof = roof\n",
    "    \n",
    "    def print_vehicle_detail(self):\n",
    "        print(\"Vehicle type: \" + self.vehicle_type)\n",
    "        print(\"Year: \" + self.year)\n",
    "        print(\"Make: \" + self.make)\n",
    "        print(\"Number of doors: \" + self.doors)\n",
    "        print(\"Type of roof: \" + self.roof)"
   ]
  },
  {
   "cell_type": "code",
   "execution_count": 5,
   "id": "a95feabc",
   "metadata": {},
   "outputs": [
    {
     "name": "stdout",
     "output_type": "stream",
     "text": [
      "Enter the vehicle type: car\n",
      "Enter the year: 2022\n",
      "Enter the make: Toyota\n",
      "Enter the model: Corolla\n",
      "Enter the numbers of doors: 4\n",
      "Enter the type of roof: sun roof\n",
      "===========\n",
      "Vehicle type: car\n",
      "Year: 2022\n",
      "Make: Toyota\n",
      "Number of doors: 4\n",
      "Type of roof: sun roof\n"
     ]
    }
   ],
   "source": [
    "# getting user input\n",
    "vehicle_type = input(\"Enter the vehicle type: \")\n",
    "year = input(\"Enter the year: \")\n",
    "make = input(\"Enter the make: \")\n",
    "model = input(\"Enter the model: \")\n",
    "doors = input(\"Enter the numbers of doors: \")\n",
    "roof = input(\"Enter the type of roof: \")\n",
    "\n",
    "# creating vehicle instance\n",
    "vehicle_instance = Automobile(vehicle_type, year, make, model, doors, roof)\n",
    "\n",
    "# some divider between input and printed detail\n",
    "print(\"===========\")\n",
    "\n",
    "# printing out the vehicle details in format\n",
    "vehicle_instance.print_vehicle_detail()"
   ]
  },
  {
   "cell_type": "code",
   "execution_count": null,
   "id": "6dd623ea",
   "metadata": {},
   "outputs": [],
   "source": []
  }
 ],
 "metadata": {
  "kernelspec": {
   "display_name": "Python 3 (ipykernel)",
   "language": "python",
   "name": "python3"
  },
  "language_info": {
   "codemirror_mode": {
    "name": "ipython",
    "version": 3
   },
   "file_extension": ".py",
   "mimetype": "text/x-python",
   "name": "python",
   "nbconvert_exporter": "python",
   "pygments_lexer": "ipython3",
   "version": "3.9.13"
  }
 },
 "nbformat": 4,
 "nbformat_minor": 5
}
